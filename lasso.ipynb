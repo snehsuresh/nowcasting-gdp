{
 "cells": [
  {
   "cell_type": "code",
   "execution_count": 35,
   "metadata": {},
   "outputs": [],
   "source": [
    "import pandas as pd\n",
    "import numpy as np\n",
    "from sklearn.linear_model import LassoCV\n",
    "from sklearn.preprocessing import StandardScaler\n",
    "from sklearn.model_selection import train_test_split\n",
    "from statsmodels.api import OLS, add_constant"
   ]
  },
  {
   "cell_type": "code",
   "execution_count": 24,
   "metadata": {},
   "outputs": [],
   "source": [
    "data = pd.read_csv(\"data/feature_engineered_data.csv\")\n",
    "data.reset_index(drop=True, inplace=True)"
   ]
  },
  {
   "cell_type": "code",
   "execution_count": 25,
   "metadata": {},
   "outputs": [],
   "source": [
    "data.head()\n",
    "df = data\n"
   ]
  },
  {
   "cell_type": "code",
   "execution_count": null,
   "metadata": {},
   "outputs": [],
   "source": [
    "# Define features and target\n",
    "predictors = [\"Lagged_Sentiment_Index\"]  # to add more predictors here\n",
    "target_gdp = \"GDP_Growth_Rate\"\n",
    "target_sentiment = \"Sentiment_Index\""
   ]
  },
  {
   "cell_type": "code",
   "execution_count": 27,
   "metadata": {},
   "outputs": [],
   "source": [
    "# Scale the data\n",
    "scaler = StandardScaler()\n",
    "X = scaler.fit_transform(data[predictors])\n",
    "y_gdp = data[target_gdp]\n",
    "y_sentiment = data[target_sentiment]"
   ]
  },
  {
   "cell_type": "code",
   "execution_count": 28,
   "metadata": {},
   "outputs": [],
   "source": [
    "# Split data into train-test sets for cross-validation\n",
    "X_train, X_test, y_gdp_train, y_gdp_test = train_test_split(\n",
    "    X, y_gdp, test_size=0.2, random_state=42\n",
    ")\n",
    "_, _, y_sentiment_train, y_sentiment_test = train_test_split(\n",
    "    X, y_sentiment, test_size=0.2, random_state=42\n",
    ")"
   ]
  },
  {
   "cell_type": "code",
   "execution_count": 29,
   "metadata": {},
   "outputs": [],
   "source": [
    "# First Lasso: Predict GDP Growth Rate\n",
    "lasso_gdp = LassoCV(cv=5, random_state=42).fit(X_train, y_gdp_train)\n",
    "selected_gdp_predictors = np.where(lasso_gdp.coef_ != 0)[0]"
   ]
  },
  {
   "cell_type": "code",
   "execution_count": 30,
   "metadata": {},
   "outputs": [
    {
     "data": {
      "text/plain": [
       "array([0])"
      ]
     },
     "execution_count": 30,
     "metadata": {},
     "output_type": "execute_result"
    }
   ],
   "source": [
    "selected_gdp_predictors"
   ]
  },
  {
   "cell_type": "code",
   "execution_count": 21,
   "metadata": {},
   "outputs": [
    {
     "name": "stdout",
     "output_type": "stream",
     "text": [
      "Lasso coefficients: [-0.          1.31614344]\n"
     ]
    }
   ],
   "source": [
    "# Get the coefficients\n",
    "print(\"Lasso coefficients:\", lasso.coef_)"
   ]
  },
  {
   "cell_type": "code",
   "execution_count": 31,
   "metadata": {},
   "outputs": [],
   "source": [
    "# Second Lasso: Predict Sentiment Index\n",
    "lasso_sentiment = LassoCV(cv=5, random_state=42).fit(X_train, y_sentiment_train)\n",
    "selected_sentiment_predictors = np.where(lasso_sentiment.coef_ != 0)[0]"
   ]
  },
  {
   "cell_type": "code",
   "execution_count": 32,
   "metadata": {},
   "outputs": [],
   "source": [
    "# Combine selected predictors\n",
    "selected_features = set(selected_gdp_predictors).union(\n",
    "    set(selected_sentiment_predictors)\n",
    ")\n",
    "combined_predictors = [predictors[i] for i in selected_features]"
   ]
  },
  {
   "cell_type": "code",
   "execution_count": 33,
   "metadata": {},
   "outputs": [
    {
     "data": {
      "text/plain": [
       "['Lagged_Sentiment_Index']"
      ]
     },
     "execution_count": 33,
     "metadata": {},
     "output_type": "execute_result"
    }
   ],
   "source": [
    "combined_predictors"
   ]
  },
  {
   "cell_type": "code",
   "execution_count": 36,
   "metadata": {},
   "outputs": [
    {
     "name": "stdout",
     "output_type": "stream",
     "text": [
      "Selected Predictors from Lasso:\n",
      "['Lagged_Sentiment_Index']\n",
      "\n",
      "OLS Regression Summary:\n",
      "                            OLS Regression Results                            \n",
      "==============================================================================\n",
      "Dep. Variable:        GDP_Growth_Rate   R-squared:                       0.006\n",
      "Model:                            OLS   Adj. R-squared:                 -0.006\n",
      "Method:                 Least Squares   F-statistic:                    0.5000\n",
      "Date:                Sun, 22 Dec 2024   Prob (F-statistic):              0.481\n",
      "Time:                        11:05:07   Log-Likelihood:                -152.26\n",
      "No. Observations:                  90   AIC:                             308.5\n",
      "Df Residuals:                      88   BIC:                             313.5\n",
      "Df Model:                           1                                         \n",
      "Covariance Type:            nonrobust                                         \n",
      "==========================================================================================\n",
      "                             coef    std err          t      P>|t|      [0.025      0.975]\n",
      "------------------------------------------------------------------------------------------\n",
      "const                      0.7983      0.377      2.120      0.037       0.050       1.547\n",
      "Lagged_Sentiment_Index    -1.9805      2.801     -0.707      0.481      -7.547       3.586\n",
      "==============================================================================\n",
      "Omnibus:                       59.717   Durbin-Watson:                   2.382\n",
      "Prob(Omnibus):                  0.000   Jarque-Bera (JB):             2553.635\n",
      "Skew:                          -1.114   Prob(JB):                         0.00\n",
      "Kurtosis:                      29.000   Cond. No.                         20.3\n",
      "==============================================================================\n",
      "\n",
      "Notes:\n",
      "[1] Standard Errors assume that the covariance matrix of the errors is correctly specified.\n"
     ]
    }
   ],
   "source": [
    "# Final Model: OLS using selected features\n",
    "X_final = data[combined_predictors]\n",
    "X_final = add_constant(X_final)  # Add constant for intercept\n",
    "final_model = OLS(data[target_gdp], X_final).fit()\n",
    "\n",
    "# Display the results\n",
    "print(\"Selected Predictors from Lasso:\")\n",
    "print(combined_predictors)\n",
    "print(\"\\nOLS Regression Summary:\")\n",
    "print(final_model.summary())"
   ]
  },
  {
   "cell_type": "code",
   "execution_count": null,
   "metadata": {},
   "outputs": [],
   "source": []
  }
 ],
 "metadata": {
  "kernelspec": {
   "display_name": "myenv",
   "language": "python",
   "name": "python3"
  },
  "language_info": {
   "codemirror_mode": {
    "name": "ipython",
    "version": 3
   },
   "file_extension": ".py",
   "mimetype": "text/x-python",
   "name": "python",
   "nbconvert_exporter": "python",
   "pygments_lexer": "ipython3",
   "version": "3.11.9"
  }
 },
 "nbformat": 4,
 "nbformat_minor": 2
}
