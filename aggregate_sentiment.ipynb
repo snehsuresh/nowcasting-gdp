{
 "cells": [
  {
   "cell_type": "code",
   "execution_count": 2,
   "metadata": {},
   "outputs": [],
   "source": [
    "import pandas as pd\n",
    "\n",
    "# Load your sentiment data (the CSV with sentiment scores)\n",
    "sentiment_data = pd.read_csv(\"data/sorted_sentiments_by_date.csv\")\n",
    "\n",
    "# Convert the 'Date' column to datetime\n",
    "sentiment_data['Date'] = pd.to_datetime(sentiment_data['Date'])"
   ]
  },
  {
   "cell_type": "code",
   "execution_count": 3,
   "metadata": {},
   "outputs": [
    {
     "name": "stdout",
     "output_type": "stream",
     "text": [
      "  Quarter         Keywords  Aggregate_Sentiment\n",
      "0  2002Q1              GDP             0.000000\n",
      "1  2002Q1  economic growth            -0.632035\n",
      "2  2002Q1       employment            -0.631262\n",
      "3  2002Q1    fiscal policy             0.000000\n",
      "4  2002Q1        inflation            -1.894055\n"
     ]
    }
   ],
   "source": [
    "# Assign each row to the corresponding quarter\n",
    "# 'Q' is used to represent the quarter in a datetime object (e.g., 'Q1', 'Q2', 'Q3', 'Q4')\n",
    "sentiment_data[\"Quarter\"] = sentiment_data[\"Date\"].dt.to_period(\"Q\")\n",
    "\n",
    "# Group by 'Quarter' and 'Keywords' to calculate the average sentiment for each quarter\n",
    "quarterly_sentiment = (\n",
    "    sentiment_data.groupby([\"Quarter\", \"Keywords\"])[\"Aggregate_Sentiment\"]\n",
    "    .mean()\n",
    "    .reset_index()\n",
    ")\n",
    "\n",
    "# If you want to save the aggregated data to a new CSV\n",
    "quarterly_sentiment.to_csv(\"aggregated_sentiment_by_quarter.csv\", index=False)\n",
    "\n",
    "# Display the first few rows of the aggregated sentiment data\n",
    "print(quarterly_sentiment.head())"
   ]
  },
  {
   "cell_type": "code",
   "execution_count": null,
   "metadata": {},
   "outputs": [],
   "source": []
  }
 ],
 "metadata": {
  "kernelspec": {
   "display_name": "myenv",
   "language": "python",
   "name": "python3"
  },
  "language_info": {
   "codemirror_mode": {
    "name": "ipython",
    "version": 3
   },
   "file_extension": ".py",
   "mimetype": "text/x-python",
   "name": "python",
   "nbconvert_exporter": "python",
   "pygments_lexer": "ipython3",
   "version": "3.11.9"
  }
 },
 "nbformat": 4,
 "nbformat_minor": 2
}
