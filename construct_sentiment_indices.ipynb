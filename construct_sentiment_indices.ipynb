{
 "cells": [
  {
   "cell_type": "code",
   "execution_count": 1,
   "metadata": {},
   "outputs": [],
   "source": [
    "import pandas as pd\n",
    "\n",
    "# Load the previously aggregated quarterly sentiment data\n",
    "quarterly_sentiment = pd.read_csv(\"data/aggregated_sentiment_by_quarter.csv\")\n"
   ]
  },
  {
   "cell_type": "code",
   "execution_count": null,
   "metadata": {},
   "outputs": [],
   "source": [
    "# Define a mapping of keywords to weights (you can adjust the weights based on your preference)\n",
    "keyword_weights = {\n",
    "    \"GDP\": 0.3,  # Give more weight to GDP sentiment\n",
    "    \"inflation\": 0.2,\n",
    "    \"employment\": 0.2,\n",
    "    \"recession\": 0.1,\n",
    "    \"economic growth\": 0.1,\n",
    "    \"fiscal policy\": 0.1,\n",
    "}\n",
    "\n",
    "\n",
    "# Function to compute the weighted sentiment index for each quarter\n",
    "def compute_sentiment_index(row):\n",
    "    # Extract the keyword from the row\n",
    "    keyword = row[\"Keywords\"]\n",
    "\n",
    "    # Return the weighted sentiment for this keyword if it exists, else return 0 (neutral sentiment)\n",
    "    return row[\"Aggregate_Sentiment\"] * keyword_weights.get(keyword, 0)\n",
    "\n",
    "\n",
    "quarterly_sentiment[\"Sentiment_Index\"] = quarterly_sentiment.apply(\n",
    "    compute_sentiment_index, axis=1\n",
    ")"
   ]
  },
  {
   "cell_type": "code",
   "execution_count": 3,
   "metadata": {},
   "outputs": [],
   "source": [
    "# Group by quarter to get the composite sentiment index for each quarter\n",
    "sentiment_index_by_quarter = (\n",
    "    quarterly_sentiment.groupby(\"Quarter\")[\"Sentiment_Index\"].sum().reset_index()\n",
    ")\n"
   ]
  },
  {
   "cell_type": "code",
   "execution_count": 4,
   "metadata": {},
   "outputs": [],
   "source": [
    "# Optionally, normalize the sentiment index if needed (e.g., scale between -1 and 1)\n",
    "sentiment_index_by_quarter[\"Normalized_Sentiment_Index\"] = (\n",
    "    sentiment_index_by_quarter[\"Sentiment_Index\"]\n",
    "    - sentiment_index_by_quarter[\"Sentiment_Index\"].min()\n",
    ") / (\n",
    "    sentiment_index_by_quarter[\"Sentiment_Index\"].max()\n",
    "    - sentiment_index_by_quarter[\"Sentiment_Index\"].min()\n",
    ")\n"
   ]
  },
  {
   "cell_type": "code",
   "execution_count": 5,
   "metadata": {},
   "outputs": [
    {
     "name": "stdout",
     "output_type": "stream",
     "text": [
      "  Quarter  Sentiment_Index  Normalized_Sentiment_Index\n",
      "0  2002Q1        -0.568267                    0.021702\n",
      "1  2002Q2        -0.549666                    0.086930\n",
      "2  2002Q3        -0.526516                    0.168107\n",
      "3  2002Q4        -0.574455                    0.000000\n",
      "4  2003Q1        -0.530727                    0.153342\n"
     ]
    }
   ],
   "source": [
    "# Save the sentiment index data to a CSV\n",
    "sentiment_index_by_quarter.to_csv(\"sentiment_index_by_quarter.csv\", index=False)\n",
    "\n",
    "print(sentiment_index_by_quarter.head())"
   ]
  },
  {
   "cell_type": "code",
   "execution_count": null,
   "metadata": {},
   "outputs": [],
   "source": []
  }
 ],
 "metadata": {
  "kernelspec": {
   "display_name": "myenv",
   "language": "python",
   "name": "python3"
  },
  "language_info": {
   "codemirror_mode": {
    "name": "ipython",
    "version": 3
   },
   "file_extension": ".py",
   "mimetype": "text/x-python",
   "name": "python",
   "nbconvert_exporter": "python",
   "pygments_lexer": "ipython3",
   "version": "3.11.9"
  }
 },
 "nbformat": 4,
 "nbformat_minor": 2
}
